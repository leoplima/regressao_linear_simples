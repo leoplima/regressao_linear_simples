{
  "nbformat": 4,
  "nbformat_minor": 0,
  "metadata": {
    "kernelspec": {
      "display_name": "Python 3",
      "language": "python",
      "name": "python3"
    },
    "language_info": {
      "codemirror_mode": {
        "name": "ipython",
        "version": 3
      },
      "file_extension": ".py",
      "mimetype": "text/x-python",
      "name": "python",
      "nbconvert_exporter": "python",
      "pygments_lexer": "ipython3",
      "version": "3.7.4"
    },
    "colab": {
      "name": "regressao_linear_simples.ipynb",
      "provenance": [],
      "collapsed_sections": []
    }
  },
  "cells": [
    {
      "cell_type": "markdown",
      "metadata": {
        "id": "fQVigwc7vTl_",
        "colab_type": "text"
      },
      "source": [
        "# <CENTER>REGRESSÃO LINEAR SIMPLES</CENTER>\n"
      ]
    },
    {
      "cell_type": "code",
      "metadata": {
        "id": "-h1u9ioKvTmC",
        "colab_type": "code",
        "colab": {}
      },
      "source": [
        "#--Importando pacotes\n",
        "\n",
        "import pandas as pd\n",
        "import numpy as np\n",
        "import matplotlib.pyplot as plt\n",
        "from sklearn.linear_model import LinearRegression\n",
        "from yellowbrick.regressor import ResidualsPlot"
      ],
      "execution_count": 0,
      "outputs": []
    },
    {
      "cell_type": "code",
      "metadata": {
        "id": "nUUWzz8PvTmF",
        "colab_type": "code",
        "colab": {}
      },
      "source": [
        "#--Lendo base de dados\n",
        "\n",
        "base = pd.read_csv('/plano_saude.csv',sep=',')\n",
        "base.head(10)"
      ],
      "execution_count": 0,
      "outputs": []
    },
    {
      "cell_type": "code",
      "metadata": {
        "id": "NJhfC0hMvTmJ",
        "colab_type": "code",
        "colab": {}
      },
      "source": [
        "#--Separando valores de Y \n",
        "\n",
        "y = base.iloc[:, 1].values\n",
        "y"
      ],
      "execution_count": 0,
      "outputs": []
    },
    {
      "cell_type": "code",
      "metadata": {
        "id": "RRXE-k1gvTmM",
        "colab_type": "code",
        "colab": {}
      },
      "source": [
        "#--Separando valores de X\n",
        "\n",
        "X = base.iloc[:, 0].values\n",
        "X"
      ],
      "execution_count": 0,
      "outputs": []
    },
    {
      "cell_type": "code",
      "metadata": {
        "id": "_IGiyn-_vTmP",
        "colab_type": "code",
        "colab": {}
      },
      "source": [
        "#--Calculando a correlação de Pearson\n",
        "\n",
        "correlacao = np.corrcoef(X, y)\n",
        "correlacao"
      ],
      "execution_count": 0,
      "outputs": []
    },
    {
      "cell_type": "code",
      "metadata": {
        "id": "-C51JwPMvTmT",
        "colab_type": "code",
        "colab": {}
      },
      "source": [
        "#--Criando modelo de regressão linear\n",
        "\n",
        "modelo = LinearRegression()"
      ],
      "execution_count": 0,
      "outputs": []
    },
    {
      "cell_type": "code",
      "metadata": {
        "id": "JYyvreqkvTmW",
        "colab_type": "code",
        "colab": {}
      },
      "source": [
        "#-- Tranformando dados de X para formato Numpy.\n",
        "\n",
        "X = X.reshape(-1, 1)"
      ],
      "execution_count": 0,
      "outputs": []
    },
    {
      "cell_type": "code",
      "metadata": {
        "id": "MqzRXTbFvTmZ",
        "colab_type": "code",
        "colab": {}
      },
      "source": [
        "#--Treinando o modelo\n",
        "\n",
        "modelo.fit(X,y)"
      ],
      "execution_count": 0,
      "outputs": []
    },
    {
      "cell_type": "code",
      "metadata": {
        "id": "Ik6KCAOVvTmj",
        "colab_type": "code",
        "colab": {}
      },
      "source": [
        "#-- Visualizando gráfico de dispersão\n",
        "\n",
        "plt.scatter(X, y)"
      ],
      "execution_count": 0,
      "outputs": []
    },
    {
      "cell_type": "code",
      "metadata": {
        "id": "M-hho08RvTml",
        "colab_type": "code",
        "colab": {}
      },
      "source": [
        "#--Visualizando gráfico de dispersão com a reta de melhor ajuste (tendência)\n",
        "\n",
        "plt.scatter(X, y)\n",
        "plt.plot(X, modelo.predict(X), color = 'red')"
      ],
      "execution_count": 0,
      "outputs": []
    },
    {
      "cell_type": "code",
      "metadata": {
        "id": "bx2sJJjIvTmo",
        "colab_type": "code",
        "colab": {}
      },
      "source": [
        "#--Prevendo o Y \n",
        "\n",
        "modelo.predict([[35]])"
      ],
      "execution_count": 0,
      "outputs": []
    },
    {
      "cell_type": "code",
      "metadata": {
        "id": "CKEW7UIlvTmr",
        "colab_type": "code",
        "colab": {}
      },
      "source": [
        "#--Soma dos resíduos (erros)\n",
        "\n",
        "modelo._residues"
      ],
      "execution_count": 0,
      "outputs": []
    },
    {
      "cell_type": "code",
      "metadata": {
        "id": "S_N_vg65vTmu",
        "colab_type": "code",
        "colab": {}
      },
      "source": [
        "#--Precisão do modelo\n",
        "\n",
        "modelo.score(X,y)"
      ],
      "execution_count": 0,
      "outputs": []
    },
    {
      "cell_type": "markdown",
      "metadata": {
        "id": "7OBhqDIxaL7w",
        "colab_type": "text"
      },
      "source": [
        "# <CENTER>Parabéns, você fez seu primeiro modelo de PREVISÃO com Machine Learning!!!</CENTER>"
      ]
    },
    {
      "cell_type": "code",
      "metadata": {
        "id": "x2mp964-aO5A",
        "colab_type": "code",
        "colab": {}
      },
      "source": [
        ""
      ],
      "execution_count": 0,
      "outputs": []
    }
  ]
}